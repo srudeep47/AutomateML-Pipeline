{
 "cells": [
  {
   "cell_type": "code",
   "execution_count": 1,
   "id": "ec50c23f-c1d6-4d8c-8a01-0583076bc0df",
   "metadata": {},
   "outputs": [],
   "source": [
    "import pandas,numpy,joblib"
   ]
  },
  {
   "cell_type": "code",
   "execution_count": 2,
   "id": "2ee7fe4e-fa55-4a19-8062-c04ccae25052",
   "metadata": {},
   "outputs": [
    {
     "name": "stdout",
     "output_type": "stream",
     "text": [
      "Day-1 completed\n"
     ]
    }
   ],
   "source": [
    "print(\"Day-1 completed\")"
   ]
  },
  {
   "cell_type": "code",
   "execution_count": null,
   "id": "b60cc0ae-fc3d-4bb3-aa6f-2754820905bb",
   "metadata": {},
   "outputs": [],
   "source": []
  }
 ],
 "metadata": {
  "kernelspec": {
   "display_name": "Python 3 (ipykernel)",
   "language": "python",
   "name": "python3"
  },
  "language_info": {
   "codemirror_mode": {
    "name": "ipython",
    "version": 3
   },
   "file_extension": ".py",
   "mimetype": "text/x-python",
   "name": "python",
   "nbconvert_exporter": "python",
   "pygments_lexer": "ipython3",
   "version": "3.11.5"
  }
 },
 "nbformat": 4,
 "nbformat_minor": 5
}
